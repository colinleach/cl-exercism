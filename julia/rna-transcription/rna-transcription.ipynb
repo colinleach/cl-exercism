{
 "cells": [
  {
   "cell_type": "markdown",
   "metadata": {},
   "source": [
    "# RNA Transcription\n",
    "\n",
    "Given a DNA strand, return its RNA complement (per RNA transcription).\n",
    "\n",
    "Both DNA and RNA strands are a sequence of nucleotides.\n",
    "\n",
    "The four nucleotides found in DNA are adenine (**A**), cytosine (**C**),\n",
    "guanine (**G**) and thymine (**T**).\n",
    "\n",
    "The four nucleotides found in RNA are adenine (**A**), cytosine (**C**),\n",
    "guanine (**G**) and uracil (**U**).\n",
    "\n",
    "Given a DNA strand, its transcribed RNA strand is formed by replacing\n",
    "each nucleotide with its complement:\n",
    "\n",
    "* `G` -> `C`\n",
    "* `C` -> `G`\n",
    "* `T` -> `A`\n",
    "* `A` -> `U`\n",
    "\n",
    "## Source\n",
    "\n",
    "Hyperphysics [http://hyperphysics.phy-astr.gsu.edu/hbase/Organic/transcription.html](http://hyperphysics.phy-astr.gsu.edu/hbase/Organic/transcription.html)\n",
    "\n",
    "## Version compatibility\n",
    "This exercise has been tested on Julia versions >=1.0.\n",
    "\n",
    "## Submitting Incomplete Solutions\n",
    "It's possible to submit an incomplete solution so you can see how others have completed the exercise."
   ]
  },
  {
   "cell_type": "markdown",
   "metadata": {},
   "source": [
    "## Your solution"
   ]
  },
  {
   "cell_type": "code",
   "execution_count": 10,
   "metadata": {},
   "outputs": [
    {
     "data": {
      "text/plain": [
       "to_rna (generic function with 1 method)"
      ]
     },
     "execution_count": 10,
     "metadata": {},
     "output_type": "execute_result"
    }
   ],
   "source": [
    "# submit\n",
    "function to_rna(dna)\n",
    "    code = Dict('G' => 'C', 'C' => 'G', 'A' => 'U', 'T' => 'A')\n",
    "    transcript = \"\"\n",
    "    for c in dna\n",
    "        if haskey(code, c)\n",
    "            transcript *= code[c]\n",
    "        else\n",
    "            throw(ErrorException(\"Invalid DNA base\"))\n",
    "        end\n",
    "    end\n",
    "    transcript\n",
    "end"
   ]
  },
  {
   "cell_type": "code",
   "execution_count": 12,
   "metadata": {},
   "outputs": [
    {
     "ename": "LoadError",
     "evalue": "Invalid DNA base",
     "output_type": "error",
     "traceback": [
      "Invalid DNA base",
      "",
      "Stacktrace:",
      " [1] to_rna(dna::String)",
      "   @ Main .\\In[10]:9",
      " [2] top-level scope",
      "   @ In[12]:1",
      " [3] eval",
      "   @ .\\boot.jl:360 [inlined]",
      " [4] include_string(mapexpr::typeof(REPL.softscope), mod::Module, code::String, filename::String)",
      "   @ Base .\\loading.jl:1094"
     ]
    }
   ],
   "source": [
    "to_rna(\"ACTGx\")"
   ]
  },
  {
   "cell_type": "code",
   "execution_count": 8,
   "metadata": {},
   "outputs": [
    {
     "name": "stdout",
     "output_type": "stream",
     "text": [
      "search: \u001b[0m\u001b[1mE\u001b[22m\u001b[0m\u001b[1mr\u001b[22m\u001b[0m\u001b[1mr\u001b[22m\u001b[0m\u001b[1mo\u001b[22m\u001b[0m\u001b[1mr\u001b[22m\u001b[0m\u001b[1mE\u001b[22m\u001b[0m\u001b[1mx\u001b[22m\u001b[0m\u001b[1mc\u001b[22m\u001b[0m\u001b[1me\u001b[22m\u001b[0m\u001b[1mp\u001b[22m\u001b[0m\u001b[1mt\u001b[22m\u001b[0m\u001b[1mi\u001b[22m\u001b[0m\u001b[1mo\u001b[22m\u001b[0m\u001b[1mn\u001b[22m"
     ]
    },
    {
     "data": {
      "text/latex": [
       "\\begin{verbatim}\n",
       "ErrorException(msg)\n",
       "\\end{verbatim}\n",
       "Generic error type. The error message, in the \\texttt{.msg} field, may provide more specific details.\n",
       "\n",
       "\\section{Examples}\n",
       "\\begin{verbatim}\n",
       "julia> ex = ErrorException(\"I've done a bad thing\");\n",
       "\n",
       "julia> ex.msg\n",
       "\"I've done a bad thing\"\n",
       "\\end{verbatim}\n"
      ],
      "text/markdown": [
       "```\n",
       "ErrorException(msg)\n",
       "```\n",
       "\n",
       "Generic error type. The error message, in the `.msg` field, may provide more specific details.\n",
       "\n",
       "# Examples\n",
       "\n",
       "```jldoctest\n",
       "julia> ex = ErrorException(\"I've done a bad thing\");\n",
       "\n",
       "julia> ex.msg\n",
       "\"I've done a bad thing\"\n",
       "```\n"
      ],
      "text/plain": [
       "\u001b[36m  ErrorException(msg)\u001b[39m\n",
       "\n",
       "  Generic error type. The error message, in the \u001b[36m.msg\u001b[39m field, may provide more\n",
       "  specific details.\n",
       "\n",
       "\u001b[1m  Examples\u001b[22m\n",
       "\u001b[1m  ≡≡≡≡≡≡≡≡≡≡\u001b[22m\n",
       "\n",
       "\u001b[36m  julia> ex = ErrorException(\"I've done a bad thing\");\u001b[39m\n",
       "\u001b[36m  \u001b[39m\n",
       "\u001b[36m  julia> ex.msg\u001b[39m\n",
       "\u001b[36m  \"I've done a bad thing\"\u001b[39m"
      ]
     },
     "execution_count": 8,
     "metadata": {},
     "output_type": "execute_result"
    },
    {
     "name": "stdout",
     "output_type": "stream",
     "text": [
      "\n",
      "\n"
     ]
    }
   ],
   "source": [
    "?ErrorException"
   ]
  },
  {
   "cell_type": "markdown",
   "metadata": {},
   "source": [
    "## Test suite"
   ]
  },
  {
   "cell_type": "code",
   "execution_count": 13,
   "metadata": {},
   "outputs": [
    {
     "name": "stdout",
     "output_type": "stream",
     "text": [
      "\u001b[37m\u001b[1mTest Summary:         | \u001b[22m\u001b[39m\u001b[32m\u001b[1mPass  \u001b[22m\u001b[39m\u001b[36m\u001b[1mTotal\u001b[22m\u001b[39m\n",
      "basic transformations | \u001b[32m   5  \u001b[39m\u001b[36m    5\u001b[39m\n",
      "\u001b[37m\u001b[1mTest Summary:  | \u001b[22m\u001b[39m\u001b[32m\u001b[1mPass  \u001b[22m\u001b[39m\u001b[36m\u001b[1mTotal\u001b[22m\u001b[39m\n",
      "rna complement | \u001b[32m   1  \u001b[39m\u001b[36m    1\u001b[39m\n",
      "\u001b[37m\u001b[1mTest Summary:  | \u001b[22m\u001b[39m\u001b[32m\u001b[1mPass  \u001b[22m\u001b[39m\u001b[36m\u001b[1mTotal\u001b[22m\u001b[39m\n",
      "error handling | \u001b[32m   3  \u001b[39m\u001b[36m    3\u001b[39m\n"
     ]
    },
    {
     "data": {
      "text/plain": [
       "Test.DefaultTestSet(\"error handling\", Any[Test.DefaultTestSet(\"dna correctly handles invalid input\", Any[], 1, false, false), Test.DefaultTestSet(\"dna correctly handles completely invalid input\", Any[], 1, false, false), Test.DefaultTestSet(\"dna correctly handles partially invalid input\", Any[], 1, false, false)], 0, false, false)"
      ]
     },
     "execution_count": 13,
     "metadata": {},
     "output_type": "execute_result"
    }
   ],
   "source": [
    "using Test\n",
    "\n",
    "# include(\"rna-transcription.jl\")\n",
    "\n",
    "@testset \"basic transformations\" begin\n",
    "    @testset \"empty rna sequence\" begin\n",
    "        @test to_rna(\"\") == \"\"\n",
    "    end\n",
    "\n",
    "    @testset \"rna complement of cytosine is guanine\" begin\n",
    "        @test to_rna(\"C\") == \"G\"\n",
    "    end\n",
    "\n",
    "    @testset \"rna complement of guanine is cytosine\" begin\n",
    "        @test to_rna(\"G\") == \"C\"\n",
    "    end\n",
    "\n",
    "    @testset \"rna complement of thymine is adenine\" begin\n",
    "        @test to_rna(\"T\") == \"A\"\n",
    "    end\n",
    "\n",
    "    @testset \"rna complement of adenine is uracil\" begin\n",
    "        @test to_rna(\"A\") == \"U\"\n",
    "    end\n",
    "end\n",
    "\n",
    "@testset \"rna complement\" begin\n",
    "    @test to_rna(\"ACGTGGTCTTAA\") == \"UGCACCAGAAUU\"\n",
    "end\n",
    "\n",
    "@testset \"error handling\" begin\n",
    "    @testset \"dna correctly handles invalid input\" begin\n",
    "        @test_throws ErrorException to_rna(\"U\")\n",
    "    end\n",
    "\n",
    "    @testset \"dna correctly handles completely invalid input\" begin\n",
    "        @test_throws ErrorException to_rna(\"XXX\")\n",
    "    end\n",
    "\n",
    "    @testset \"dna correctly handles partially invalid input\" begin\n",
    "        @test_throws ErrorException to_rna(\"ACGTXXXCTTAA\")\n",
    "    end\n",
    "end"
   ]
  },
  {
   "cell_type": "markdown",
   "metadata": {},
   "source": [
    "## Prepare submission\n",
    "To submit your exercise, you need to save your solution in a file called `rna-transcription.jl` before using the CLI.\n",
    "You can either create it manually or use the following functions, which will automatically write every notebook cell that starts with `# submit` to the file `rna-transcription.jl`.\n"
   ]
  },
  {
   "cell_type": "code",
   "execution_count": 14,
   "metadata": {},
   "outputs": [
    {
     "data": {
      "text/plain": [
       "288"
      ]
     },
     "execution_count": 14,
     "metadata": {},
     "output_type": "execute_result"
    }
   ],
   "source": [
    "# using Pkg; Pkg.add(\"Exercism\")\n",
    "using Exercism\n",
    "Exercism.create_submission(\"rna-transcription\")"
   ]
  },
  {
   "cell_type": "code",
   "execution_count": null,
   "metadata": {},
   "outputs": [],
   "source": []
  }
 ],
 "metadata": {
  "kernelspec": {
   "display_name": "Julia 1.6.1",
   "language": "julia",
   "name": "julia-1.6"
  },
  "language_info": {
   "file_extension": ".jl",
   "mimetype": "application/julia",
   "name": "julia",
   "version": "1.6.1"
  }
 },
 "nbformat": 4,
 "nbformat_minor": 2
}
