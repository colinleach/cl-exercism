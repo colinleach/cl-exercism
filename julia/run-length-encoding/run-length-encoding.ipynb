{
 "cells": [
  {
   "cell_type": "markdown",
   "metadata": {},
   "source": [
    "# Run Length Encoding\n",
    "\n",
    "Implement run-length encoding and decoding.\n",
    "\n",
    "Run-length encoding (RLE) is a simple form of data compression, where runs\n",
    "(consecutive data elements) are replaced by just one data value and count.\n",
    "\n",
    "For example we can represent the original 53 characters with only 13.\n",
    "\n",
    "```text\n",
    "\"WWWWWWWWWWWWBWWWWWWWWWWWWBBBWWWWWWWWWWWWWWWWWWWWWWWWB\"  ->  \"12WB12W3B24WB\"\n",
    "```\n",
    "\n",
    "RLE allows the original data to be perfectly reconstructed from\n",
    "the compressed data, which makes it a lossless data compression.\n",
    "\n",
    "```text\n",
    "\"AABCCCDEEEE\"  ->  \"2AB3CD4E\"  ->  \"AABCCCDEEEE\"\n",
    "```\n",
    "\n",
    "For simplicity, you can assume that the unencoded string will only contain\n",
    "the letters A through Z (either lower or upper case) and whitespace. This way\n",
    "data to be encoded will never contain any numbers and numbers inside data to\n",
    "be decoded always represent the count for the following character.\n",
    "\n",
    "## Source\n",
    "\n",
    "Wikipedia [https://en.wikipedia.org/wiki/Run-length_encoding](https://en.wikipedia.org/wiki/Run-length_encoding)\n",
    "\n",
    "## Version compatibility\n",
    "This exercise has been tested on Julia versions >=1.0.\n",
    "\n",
    "## Submitting Incomplete Solutions\n",
    "It's possible to submit an incomplete solution so you can see how others have completed the exercise."
   ]
  },
  {
   "cell_type": "markdown",
   "metadata": {},
   "source": [
    "## Your solution"
   ]
  },
  {
   "cell_type": "code",
   "execution_count": 93,
   "metadata": {},
   "outputs": [
    {
     "data": {
      "text/plain": [
       "decode (generic function with 1 method)"
      ]
     },
     "execution_count": 93,
     "metadata": {},
     "output_type": "execute_result"
    }
   ],
   "source": [
    "# submit\n",
    "function to_append(count, prev_char)\n",
    "    num = count > 1 ? string(count) : \"\"\n",
    "    prev_char == '$' ? \"\" : num * prev_char\n",
    "end\n",
    "\n",
    "function encode(s)\n",
    "    if s == \"\"\n",
    "        return \"\"\n",
    "    else\n",
    "        prev_char = '$' # a bit ugly, prefer nothing\n",
    "        count = 1\n",
    "        out = \"\"\n",
    "        for c in s\n",
    "            if c == prev_char\n",
    "                count += 1\n",
    "            else\n",
    "                out = out * to_append(count, prev_char)\n",
    "                prev_char = c\n",
    "                count = 1\n",
    "            end\n",
    "        end\n",
    "    end\n",
    "    out * to_append(count, prev_char)\n",
    "end\n",
    "\n",
    "function isnum(c)\n",
    "    c in \"12345690\"\n",
    "end\n",
    "\n",
    "function decode(s)\n",
    "    number = \"\"\n",
    "    out = \"\"\n",
    "    for c in s\n",
    "        if isnum(c)\n",
    "            number *= c\n",
    "        else\n",
    "            repeats = length(number) > 0 ? parse(Int, number) : 1\n",
    "            for i in 1:repeats\n",
    "                out *= c\n",
    "            end\n",
    "            number = \"\"\n",
    "        end\n",
    "    end\n",
    "    out\n",
    "end"
   ]
  },
  {
   "cell_type": "code",
   "execution_count": 87,
   "metadata": {},
   "outputs": [
    {
     "data": {
      "text/plain": [
       "\"\""
      ]
     },
     "execution_count": 87,
     "metadata": {},
     "output_type": "execute_result"
    }
   ],
   "source": [
    "encode(\"\")"
   ]
  },
  {
   "cell_type": "code",
   "execution_count": 88,
   "metadata": {
    "scrolled": true
   },
   "outputs": [
    {
     "data": {
      "text/plain": [
       "\"5a3b2c\""
      ]
     },
     "execution_count": 88,
     "metadata": {},
     "output_type": "execute_result"
    }
   ],
   "source": [
    "encode(\"aaaaabbbcc\")"
   ]
  },
  {
   "cell_type": "code",
   "execution_count": 89,
   "metadata": {},
   "outputs": [
    {
     "data": {
      "text/plain": [
       "\"aaaaaabbbcc\""
      ]
     },
     "execution_count": 89,
     "metadata": {},
     "output_type": "execute_result"
    }
   ],
   "source": [
    "decode(\"6a3b2c\")"
   ]
  },
  {
   "cell_type": "code",
   "execution_count": 90,
   "metadata": {},
   "outputs": [
    {
     "data": {
      "text/plain": [
       "true"
      ]
     },
     "execution_count": 90,
     "metadata": {},
     "output_type": "execute_result"
    }
   ],
   "source": [
    "'9' in \"12345690\""
   ]
  },
  {
   "cell_type": "markdown",
   "metadata": {},
   "source": [
    "## Test suite"
   ]
  },
  {
   "cell_type": "code",
   "execution_count": 91,
   "metadata": {},
   "outputs": [
    {
     "name": "stdout",
     "output_type": "stream",
     "text": [
      "\u001b[37m\u001b[1mTest Summary:  | \u001b[22m\u001b[39m\u001b[32m\u001b[1mPass  \u001b[22m\u001b[39m\u001b[36m\u001b[1mTotal\u001b[22m\u001b[39m\n",
      "encode strings | \u001b[32m   6  \u001b[39m\u001b[36m    6\u001b[39m\n",
      "\u001b[37m\u001b[1mTest Summary:  | \u001b[22m\u001b[39m\u001b[32m\u001b[1mPass  \u001b[22m\u001b[39m\u001b[36m\u001b[1mTotal\u001b[22m\u001b[39m\n",
      "decode strings | \u001b[32m   6  \u001b[39m\u001b[36m    6\u001b[39m\n",
      "\u001b[37m\u001b[1mTest Summary:      | \u001b[22m\u001b[39m\u001b[32m\u001b[1mPass  \u001b[22m\u001b[39m\u001b[36m\u001b[1mTotal\u001b[22m\u001b[39m\n",
      "encode then decode | \u001b[32m   1  \u001b[39m"
     ]
    },
    {
     "data": {
      "text/plain": [
       "Test.DefaultTestSet(\"encode then decode\", Any[], 1, false, false)"
      ]
     },
     "execution_count": 91,
     "metadata": {},
     "output_type": "execute_result"
    },
    {
     "name": "stdout",
     "output_type": "stream",
     "text": [
      "\u001b[36m    1\u001b[39m\n"
     ]
    }
   ],
   "source": [
    "using Test\n",
    "\n",
    "# include(\"run-length-encoding.jl\")\n",
    "\n",
    "\n",
    "# Tests adapted from `problem-specifications//canonical-data.json` @ v1.0.0\n",
    "# Encode and decode the strings under the given specifications.\n",
    "\n",
    "@testset \"encode strings\" begin\n",
    "    @test encode(\"\") == \"\"\n",
    "    @test encode(\"XYZ\") == \"XYZ\"\n",
    "    @test encode(\"AABBBCCCC\") == \"2A3B4C\"\n",
    "    @test encode(\"WWWWWWWWWWWWBWWWWWWWWWWWWBBBWWWWWWWWWWWWWWWWWWWWWWWWB\") == \"12WB12W3B24WB\"\n",
    "    @test encode(\"aabbbcccc\") == \"2a3b4c\"\n",
    "    @test encode(\"  hsqq qww  \") == \"2 hs2q q2w2 \"\n",
    "end\n",
    "\n",
    "@testset \"decode strings\" begin\n",
    "    @test decode(\"\") == \"\"\n",
    "    @test decode(\"XYZ\") == \"XYZ\"\n",
    "    @test decode(\"2A3B4C\") == \"AABBBCCCC\"\n",
    "    @test decode(\"12WB12W3B24WB\") == \"WWWWWWWWWWWWBWWWWWWWWWWWWBBBWWWWWWWWWWWWWWWWWWWWWWWWB\"\n",
    "    @test decode(\"2a3b4c\") == \"aabbbcccc\"\n",
    "    @test decode(\"2 hs2q q2w2 \") == \"  hsqq qww  \"\n",
    "end\n",
    "\n",
    "@testset \"encode then decode\" begin\n",
    "    @test decode(encode(\"zzz ZZ  zZ\")) == \"zzz ZZ  zZ\"\n",
    "end"
   ]
  },
  {
   "cell_type": "markdown",
   "metadata": {},
   "source": [
    "## Prepare submission\n",
    "To submit your exercise, you need to save your solution in a file called `run-length-encoding.jl` before using the CLI.\n",
    "You can either create it manually or use the following functions, which will automatically write every notebook cell that starts with `# submit` to the file `run-length-encoding.jl`.\n"
   ]
  },
  {
   "cell_type": "code",
   "execution_count": 94,
   "metadata": {},
   "outputs": [
    {
     "data": {
      "text/plain": [
       "916"
      ]
     },
     "execution_count": 94,
     "metadata": {},
     "output_type": "execute_result"
    }
   ],
   "source": [
    "# using Pkg; Pkg.add(\"Exercism\")\n",
    "using Exercism\n",
    "Exercism.create_submission(\"run-length-encoding\")"
   ]
  },
  {
   "cell_type": "code",
   "execution_count": null,
   "metadata": {},
   "outputs": [],
   "source": []
  }
 ],
 "metadata": {
  "kernelspec": {
   "display_name": "Julia 1.6.1",
   "language": "julia",
   "name": "julia-1.6"
  },
  "language_info": {
   "file_extension": ".jl",
   "mimetype": "application/julia",
   "name": "julia",
   "version": "1.6.1"
  }
 },
 "nbformat": 4,
 "nbformat_minor": 2
}
