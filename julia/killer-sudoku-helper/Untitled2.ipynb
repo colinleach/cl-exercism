{
 "cells": [
  {
   "cell_type": "code",
   "execution_count": 1,
   "id": "539b499e",
   "metadata": {},
   "outputs": [],
   "source": [
    "import Random"
   ]
  },
  {
   "cell_type": "code",
   "execution_count": null,
   "id": "c14e8f05",
   "metadata": {},
   "outputs": [],
   "source": [
    "mutable struct Robot\n",
    "    rname::String\n",
    "\n",
    "    function Robot()\n",
    "        \n",
    "    end\n",
    "end"
   ]
  },
  {
   "cell_type": "code",
   "execution_count": 10,
   "id": "ecb8888f",
   "metadata": {},
   "outputs": [
    {
     "data": {
      "text/plain": [
       "generate_name (generic function with 1 method)"
      ]
     },
     "execution_count": 10,
     "metadata": {},
     "output_type": "execute_result"
    }
   ],
   "source": [
    "function generate_name()\n",
    "    letter1 = string('A' + rand(0:25))\n",
    "    letter2 = string('A' + rand(0:25))\n",
    "    digits = last(\"000\" * string(rand(0:999)), 3)\n",
    "    letter1 * letter2 * digits\n",
    "end"
   ]
  },
  {
   "cell_type": "code",
   "execution_count": null,
   "id": "d6289aa4",
   "metadata": {},
   "outputs": [],
   "source": [
    "function reset!(instance::Robot)\n",
    "\n",
    "end"
   ]
  },
  {
   "cell_type": "code",
   "execution_count": 4,
   "id": "e76f18cf",
   "metadata": {},
   "outputs": [
    {
     "ename": "LoadError",
     "evalue": "UndefVarError: Robot not defined",
     "output_type": "error",
     "traceback": [
      "UndefVarError: Robot not defined",
      "",
      "Stacktrace:",
      " [1] top-level scope",
      "   @ In[4]:1",
      " [2] eval",
      "   @ ./boot.jl:373 [inlined]",
      " [3] include_string(mapexpr::typeof(REPL.softscope), mod::Module, code::String, filename::String)",
      "   @ Base ./loading.jl:1196"
     ]
    }
   ],
   "source": [
    "function name(instance::Robot)\n",
    "    instance.rname\n",
    "end"
   ]
  },
  {
   "cell_type": "code",
   "execution_count": 12,
   "id": "2d327702",
   "metadata": {},
   "outputs": [
    {
     "data": {
      "text/plain": [
       "\"WS354\""
      ]
     },
     "execution_count": 12,
     "metadata": {},
     "output_type": "execute_result"
    }
   ],
   "source": [
    "generate_name()"
   ]
  },
  {
   "cell_type": "code",
   "execution_count": 9,
   "id": "8a307959",
   "metadata": {},
   "outputs": [
    {
     "data": {
      "text/plain": [
       "\"[0.9451016918264313, 0.45267166286200633, 0.7492244029001144, 0.898515729033769, 0.37839025712550256, 0.8379118124721456, 0.403041463430999, 0.23538338875418985, 0.3561287290527313, 0.8558758440994055, 0.9984926486853198, 0.6741813037410895, 0.8115745081448882, 0.077644\" ⋯ 19711 bytes ⋯ \"0.45952704400570565, 0.3432305139208821, 0.39883715413564635, 0.17778220932010347, 0.7207674080395926, 0.006457100427610385, 0.07358481575707831, 0.9308665615251028, 0.27364914898289383, 0.07609829326726236, 0.8785162045740923, 0.47999215221933655, 0.37835849220635076]\""
      ]
     },
     "execution_count": 9,
     "metadata": {},
     "output_type": "execute_result"
    }
   ],
   "source": [
    "string(rand(0999))"
   ]
  },
  {
   "cell_type": "code",
   "execution_count": 13,
   "id": "f104a884",
   "metadata": {},
   "outputs": [
    {
     "data": {
      "text/plain": [
       "Set{String}()"
      ]
     },
     "execution_count": 13,
     "metadata": {},
     "output_type": "execute_result"
    }
   ],
   "source": [
    "const used = Set{String}()"
   ]
  },
  {
   "cell_type": "code",
   "execution_count": 18,
   "id": "4483c409",
   "metadata": {},
   "outputs": [
    {
     "data": {
      "text/plain": [
       "generate_name (generic function with 1 method)"
      ]
     },
     "execution_count": 18,
     "metadata": {},
     "output_type": "execute_result"
    }
   ],
   "source": [
    "function generate_name()::String\n",
    "    while true\n",
    "        letter1 = string('A' + rand(0:25))\n",
    "        letter2 = string('A' + rand(0:25))\n",
    "        digits::String = last(\"000\" * string(rand(0:999)), 3)\n",
    "        name::String = letter1 * letter2 * digits\n",
    "        if (!in(name, used))\n",
    "            push!(used, name)\n",
    "            break\n",
    "        end\n",
    "    end\n",
    "    display(typeof(name))\n",
    "    name\n",
    "end\n"
   ]
  },
  {
   "cell_type": "code",
   "execution_count": 19,
   "id": "44baedb8",
   "metadata": {},
   "outputs": [
    {
     "data": {
      "text/plain": [
       "typeof(name) (singleton type of function name, subtype of Function)"
      ]
     },
     "metadata": {},
     "output_type": "display_data"
    },
    {
     "ename": "LoadError",
     "evalue": "MethodError: \u001b[0mCannot `convert` an object of type \u001b[92mtypeof(name)\u001b[39m\u001b[0m to an object of type \u001b[91mString\u001b[39m\n\u001b[0mClosest candidates are:\n\u001b[0m  convert(::Type{String}, \u001b[91m::String\u001b[39m) at /usr/local/noapt/julia-1.7.0/share/julia/base/essentials.jl:223\n\u001b[0m  convert(::Type{T}, \u001b[91m::T\u001b[39m) where T<:AbstractString at /usr/local/noapt/julia-1.7.0/share/julia/base/strings/basic.jl:231\n\u001b[0m  convert(::Type{T}, \u001b[91m::AbstractString\u001b[39m) where T<:AbstractString at /usr/local/noapt/julia-1.7.0/share/julia/base/strings/basic.jl:232\n\u001b[0m  ...",
     "output_type": "error",
     "traceback": [
      "MethodError: \u001b[0mCannot `convert` an object of type \u001b[92mtypeof(name)\u001b[39m\u001b[0m to an object of type \u001b[91mString\u001b[39m\n\u001b[0mClosest candidates are:\n\u001b[0m  convert(::Type{String}, \u001b[91m::String\u001b[39m) at /usr/local/noapt/julia-1.7.0/share/julia/base/essentials.jl:223\n\u001b[0m  convert(::Type{T}, \u001b[91m::T\u001b[39m) where T<:AbstractString at /usr/local/noapt/julia-1.7.0/share/julia/base/strings/basic.jl:231\n\u001b[0m  convert(::Type{T}, \u001b[91m::AbstractString\u001b[39m) where T<:AbstractString at /usr/local/noapt/julia-1.7.0/share/julia/base/strings/basic.jl:232\n\u001b[0m  ...",
      "",
      "Stacktrace:",
      " [1] generate_name()",
      "   @ Main ./In[18]:13",
      " [2] top-level scope",
      "   @ In[19]:1",
      " [3] eval",
      "   @ ./boot.jl:373 [inlined]",
      " [4] include_string(mapexpr::typeof(REPL.softscope), mod::Module, code::String, filename::String)",
      "   @ Base ./loading.jl:1196"
     ]
    }
   ],
   "source": [
    "generate_name()"
   ]
  },
  {
   "cell_type": "code",
   "execution_count": 21,
   "id": "52c6671d",
   "metadata": {},
   "outputs": [
    {
     "ename": "LoadError",
     "evalue": "invalid redefinition of constant name",
     "output_type": "error",
     "traceback": [
      "invalid redefinition of constant name",
      "",
      "Stacktrace:",
      " [1] top-level scope",
      "   @ In[21]:4",
      " [2] eval",
      "   @ ./boot.jl:373 [inlined]",
      " [3] include_string(mapexpr::typeof(REPL.softscope), mod::Module, code::String, filename::String)",
      "   @ Base ./loading.jl:1196"
     ]
    }
   ],
   "source": [
    "letter1 = string('A' + rand(0:25))\n",
    "letter2 = string('A' + rand(0:25))\n",
    "digits = last(\"000\" * string(rand(0:999)), 3)\n",
    "name = letter1 * letter2 * digits\n",
    "typeof(name)"
   ]
  },
  {
   "cell_type": "code",
   "execution_count": null,
   "id": "0bbd37a3",
   "metadata": {},
   "outputs": [],
   "source": []
  }
 ],
 "metadata": {
  "kernelspec": {
   "display_name": "Julia 1.7.0",
   "language": "julia",
   "name": "julia-1.7"
  },
  "language_info": {
   "file_extension": ".jl",
   "mimetype": "application/julia",
   "name": "julia",
   "version": "1.7.0"
  }
 },
 "nbformat": 4,
 "nbformat_minor": 5
}
