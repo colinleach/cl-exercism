{
 "cells": [
  {
   "cell_type": "markdown",
   "metadata": {},
   "source": [
    "# Nucleotide Count\n",
    "\n",
    "Each of us inherits from our biological parents a set of chemical instructions known as DNA that influence how our bodies are constructed. All known life depends on DNA!\n",
    "\n",
    "> Note: You do not need to understand anything about nucleotides or DNA to complete this exercise.\n",
    "\n",
    "DNA is a long chain of other chemicals and the most important are the four nucleotides, adenine, cytosine, guanine and thymine. A single DNA chain can contain billions of these four nucleotides and the order in which they occur is important!\n",
    "We call the order of these nucleotides in a bit of DNA a \"DNA sequence\".\n",
    "\n",
    "We represent a DNA sequence as an ordered collection of these four nucleotides and a common way to do that is with a string of characters such as \"ATTACG\" for a DNA sequence of 6 nucleotides.\n",
    "'A' for adenine, 'C' for cytosine, 'G' for guanine, and 'T' for thymine.\n",
    "\n",
    "Given a string representing a DNA sequence, count how many of each nucleotide is present.\n",
    "If the string contains characters that aren't A, C, G, or T then it is invalid and you should signal an error.\n",
    "\n",
    "For example:\n",
    "\n",
    "```\n",
    "\"GATTACA\" -> 'A': 3, 'C': 1, 'G': 1, 'T': 2\n",
    "\"INVALID\" -> error\n",
    "```\n",
    "\n",
    "## Source\n",
    "\n",
    "The Calculating DNA Nucleotides_problem at Rosalind [http://rosalind.info/problems/dna/](http://rosalind.info/problems/dna/)\n",
    "\n",
    "## Version compatibility\n",
    "This exercise has been tested on Julia versions >=1.0.\n",
    "\n",
    "## Submitting Incomplete Solutions\n",
    "It's possible to submit an incomplete solution so you can see how others have completed the exercise."
   ]
  },
  {
   "cell_type": "markdown",
   "metadata": {},
   "source": [
    "## Your solution"
   ]
  },
  {
   "cell_type": "code",
   "execution_count": 30,
   "metadata": {},
   "outputs": [
    {
     "data": {
      "text/plain": [
       "count_nucleotides"
      ]
     },
     "execution_count": 30,
     "metadata": {},
     "output_type": "execute_result"
    }
   ],
   "source": [
    "# submit\n",
    "\"\"\"\n",
    "    count_nucleotides(strand)\n",
    "\n",
    "The frequency of each nucleotide within `strand` as a dictionary.\n",
    "\n",
    "Invalid strands raise a `DomainError`.\n",
    "\n",
    "\"\"\"\n",
    "function count_nucleotides(strand)\n",
    "    count = Dict('A' => 0, 'C' => 0, 'G' => 0, 'T' => 0)\n",
    "    for ch in strand\n",
    "        if ch == 'A'\n",
    "            count['A'] += 1\n",
    "        elseif ch == 'C'\n",
    "            count['C'] += 1\n",
    "        elseif ch == 'G'\n",
    "            count['G'] += 1\n",
    "        elseif ch == 'T'\n",
    "            count['T'] += 1\n",
    "        else\n",
    "            throw(DomainError())\n",
    "        end\n",
    "    end\n",
    "    return count\n",
    "end"
   ]
  },
  {
   "cell_type": "code",
   "execution_count": 31,
   "metadata": {},
   "outputs": [
    {
     "ename": "LoadError",
     "evalue": "MethodError: no method matching DomainError()\n\u001b[0mClosest candidates are:\n\u001b[0m  DomainError(\u001b[91m::Any\u001b[39m) at boot.jl:288\n\u001b[0m  DomainError(\u001b[91m::Any\u001b[39m, \u001b[91m::Any\u001b[39m) at boot.jl:289",
     "output_type": "error",
     "traceback": [
      "MethodError: no method matching DomainError()\n\u001b[0mClosest candidates are:\n\u001b[0m  DomainError(\u001b[91m::Any\u001b[39m) at boot.jl:288\n\u001b[0m  DomainError(\u001b[91m::Any\u001b[39m, \u001b[91m::Any\u001b[39m) at boot.jl:289",
      "",
      "Stacktrace:",
      " [1] count_nucleotides(strand::String)",
      "   @ Main ./In[30]:22",
      " [2] top-level scope",
      "   @ In[31]:1",
      " [3] eval",
      "   @ ./boot.jl:360 [inlined]",
      " [4] include_string(mapexpr::typeof(REPL.softscope), mod::Module, code::String, filename::String)",
      "   @ Base ./loading.jl:1094"
     ]
    }
   ],
   "source": [
    "count_nucleotides(\"AGXXACT\")"
   ]
  },
  {
   "cell_type": "code",
   "execution_count": null,
   "metadata": {},
   "outputs": [],
   "source": []
  },
  {
   "cell_type": "markdown",
   "metadata": {},
   "source": [
    "## Test suite"
   ]
  },
  {
   "cell_type": "code",
   "execution_count": 32,
   "metadata": {},
   "outputs": [
    {
     "name": "stdout",
     "output_type": "stream",
     "text": [
      "\u001b[37m\u001b[1mTest Summary: | \u001b[22m\u001b[39m\u001b[32m\u001b[1mPass  \u001b[22m\u001b[39m\u001b[36m\u001b[1mTotal\u001b[22m\u001b[39m\n",
      "empty strand  | \u001b[32m   1  \u001b[39m\u001b[36m    1\u001b[39m\n",
      "\u001b[37m\u001b[1mTest Summary:                                        | \u001b[22m\u001b[39m\u001b[32m\u001b[1mPass  \u001b[22m\u001b[39m\u001b[36m\u001b[1mTotal\u001b[22m\u001b[39m\n",
      "strang with one nucleotide in single-character input | \u001b[32m   1  \u001b[39m\u001b[36m    1\u001b[39m\n",
      "\u001b[37m\u001b[1mTest Summary:                   | \u001b[22m\u001b[39m\u001b[32m\u001b[1mPass  \u001b[22m\u001b[39m\u001b[36m\u001b[1mTotal\u001b[22m\u001b[39m\n",
      "strand with repeated nucleotide | \u001b[32m   1  \u001b[39m\u001b[36m    1\u001b[39m\n",
      "\u001b[37m\u001b[1mTest Summary:                    | \u001b[22m\u001b[39m\u001b[32m\u001b[1mPass  \u001b[22m\u001b[39m\u001b[36m\u001b[1mTotal\u001b[22m\u001b[39m\n",
      "strand with multiple nucleotides | \u001b[32m   1  \u001b[39m\u001b[36m    1\u001b[39m\n",
      "\u001b[37mstrand with invalid nucleotides: \u001b[39m\u001b[91m\u001b[1mTest Failed\u001b[22m\u001b[39m at \u001b[39m\u001b[1mIn[32]:22\u001b[22m\n",
      "  Expression: count_nucleotides(\"AGXXACT\")\n",
      "    Expected: DomainError\n",
      "      Thrown: MethodError\n",
      "Stacktrace:\n",
      " [1] \u001b[0m\u001b[1mmacro expansion\u001b[22m\n",
      "\u001b[90m   @ \u001b[39m\u001b[90;4mIn[32]:22\u001b[0m\u001b[90m [inlined]\u001b[39m\n",
      " [2] \u001b[0m\u001b[1mmacro expansion\u001b[22m\n",
      "\u001b[90m   @ \u001b[39m\u001b[90m/buildworker/worker/package_linux64/build/usr/share/julia/stdlib/v1.6/Test/src/\u001b[39m\u001b[90;4mTest.jl:1151\u001b[0m\u001b[90m [inlined]\u001b[39m\n",
      " [3] top-level scope\n",
      "\u001b[90m   @ \u001b[39m\u001b[90;4mIn[32]:22\u001b[0m\n",
      "\u001b[37m\u001b[1mTest Summary:                   | \u001b[22m\u001b[39m\u001b[91m\u001b[1mFail  \u001b[22m\u001b[39m\u001b[36m\u001b[1mTotal\u001b[22m\u001b[39m\n",
      "strand with invalid nucleotides | \u001b[91m   1  \u001b[39m\u001b[36m    1\u001b[39m\n"
     ]
    },
    {
     "ename": "LoadError",
     "evalue": "\u001b[91mSome tests did not pass: 0 passed, 1 failed, 0 errored, 0 broken.\u001b[39m",
     "output_type": "error",
     "traceback": [
      "\u001b[91mSome tests did not pass: 0 passed, 1 failed, 0 errored, 0 broken.\u001b[39m",
      "",
      "Stacktrace:",
      " [1] finish(ts::Test.DefaultTestSet)",
      "   @ Test /buildworker/worker/package_linux64/build/usr/share/julia/stdlib/v1.6/Test/src/Test.jl:913",
      " [2] macro expansion",
      "   @ /buildworker/worker/package_linux64/build/usr/share/julia/stdlib/v1.6/Test/src/Test.jl:1161 [inlined]",
      " [3] top-level scope",
      "   @ In[32]:22",
      " [4] eval",
      "   @ ./boot.jl:360 [inlined]",
      " [5] include_string(mapexpr::typeof(REPL.softscope), mod::Module, code::String, filename::String)",
      "   @ Base ./loading.jl:1094"
     ]
    }
   ],
   "source": [
    "using Test\n",
    "\n",
    "# include(\"nucleotide-count.jl\")\n",
    "\n",
    "@testset \"empty strand\" begin\n",
    "    @test count_nucleotides(\"\") == Dict('A' => 0, 'C' => 0, 'G' => 0, 'T' => 0)\n",
    "end\n",
    "\n",
    "@testset \"strang with one nucleotide in single-character input\" begin\n",
    "    @test count_nucleotides(\"G\") == Dict('A' => 0, 'C' => 0, 'G' => 1, 'T' => 0)\n",
    "end\n",
    "\n",
    "@testset \"strand with repeated nucleotide\" begin\n",
    "    @test count_nucleotides(\"GGGGGGG\") == Dict('A' => 0, 'C' => 0, 'G' => 7, 'T' => 0)\n",
    "end\n",
    "\n",
    "@testset \"strand with multiple nucleotides\" begin\n",
    "    @test count_nucleotides(\"AGCTTTTCATTCTGACTGCAACGGGCAATATGTCTCTGTGTGGATTAAAAAAAGAGTGTCTGATAGCAGC\") == Dict('A' => 20, 'C' => 12, 'G' => 17, 'T' => 21)\n",
    "end\n",
    "\n",
    "@testset \"strand with invalid nucleotides\" begin\n",
    "    @test_throws DomainError count_nucleotides(\"AGXXACT\")\n",
    "end"
   ]
  },
  {
   "cell_type": "markdown",
   "metadata": {},
   "source": [
    "## Prepare submission\n",
    "To submit your exercise, you need to save your solution in a file called `nucleotide-count.jl` before using the CLI.\n",
    "You can either create it manually or use the following functions, which will automatically write every notebook cell that starts with `# submit` to the file `nucleotide-count.jl`.\n"
   ]
  },
  {
   "cell_type": "code",
   "execution_count": 33,
   "metadata": {},
   "outputs": [
    {
     "data": {
      "text/plain": [
       "558"
      ]
     },
     "execution_count": 33,
     "metadata": {},
     "output_type": "execute_result"
    }
   ],
   "source": [
    "# using Pkg; Pkg.add(\"Exercism\")\n",
    "using Exercism\n",
    "Exercism.create_submission(\"nucleotide-count\")"
   ]
  },
  {
   "cell_type": "code",
   "execution_count": null,
   "metadata": {},
   "outputs": [],
   "source": []
  }
 ],
 "metadata": {
  "kernelspec": {
   "display_name": "Julia 1.6.1",
   "language": "julia",
   "name": "julia-1.6"
  },
  "language_info": {
   "file_extension": ".jl",
   "mimetype": "application/julia",
   "name": "julia",
   "version": "1.6.1"
  },
  "toc": {
   "base_numbering": 1,
   "nav_menu": {},
   "number_sections": true,
   "sideBar": true,
   "skip_h1_title": false,
   "title_cell": "Table of Contents",
   "title_sidebar": "Contents",
   "toc_cell": false,
   "toc_position": {},
   "toc_section_display": true,
   "toc_window_display": false
  }
 },
 "nbformat": 4,
 "nbformat_minor": 2
}
