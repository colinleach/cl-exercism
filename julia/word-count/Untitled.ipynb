{
 "cells": [
  {
   "cell_type": "code",
   "execution_count": 1,
   "id": "88dc5171",
   "metadata": {},
   "outputs": [],
   "source": [
    "using Test"
   ]
  },
  {
   "cell_type": "code",
   "execution_count": null,
   "id": "0c24bec5",
   "metadata": {},
   "outputs": [],
   "source": []
  },
  {
   "cell_type": "code",
   "execution_count": 73,
   "id": "bef3f2fd",
   "metadata": {},
   "outputs": [
    {
     "data": {
      "text/plain": [
       "cleansentence (generic function with 1 method)"
      ]
     },
     "execution_count": 73,
     "metadata": {},
     "output_type": "execute_result"
    }
   ],
   "source": [
    "function cleansentence(sentence)\n",
    "    commaless = replace(sentence, \",\" => \" \")\n",
    "    quoteless = replace(commaless, r\"\\'\\s|\\s\\'\" => \" \")\n",
    "    replace(quoteless, r\"[^a-z0-9\\s\\']\" => \"\")\n",
    "end"
   ]
  },
  {
   "cell_type": "code",
   "execution_count": 74,
   "id": "80133db0",
   "metadata": {},
   "outputs": [
    {
     "data": {
      "text/plain": [
       "wordcount (generic function with 1 method)"
      ]
     },
     "execution_count": 74,
     "metadata": {},
     "output_type": "execute_result"
    }
   ],
   "source": [
    "function wordcount(sentence)\n",
    "    counts = Dict()\n",
    "    words = sentence |> lowercase |> cleansentence |> split\n",
    "    for w in words\n",
    "        if haskey(counts, w)\n",
    "            counts[w] += 1\n",
    "        else\n",
    "            w = replace(w, r\"^\\'|\\'$\" => \"\")\n",
    "            if w == \"\" || count(i->(i=='''), w) > 1\n",
    "                continue\n",
    "            end\n",
    "            counts[w] = 1\n",
    "        end\n",
    "    end\n",
    "    counts\n",
    "end"
   ]
  },
  {
   "cell_type": "code",
   "execution_count": 75,
   "id": "db58df26",
   "metadata": {},
   "outputs": [
    {
     "data": {
      "text/plain": [
       "\"Joe can't tell between 'large' and large.\""
      ]
     },
     "execution_count": 75,
     "metadata": {},
     "output_type": "execute_result"
    }
   ],
   "source": [
    "replace(\"Joe can't tell between 'large' and large.\", \",\" => \" \")"
   ]
  },
  {
   "cell_type": "code",
   "execution_count": null,
   "id": "b27f5cfb",
   "metadata": {},
   "outputs": [],
   "source": []
  },
  {
   "cell_type": "code",
   "execution_count": 76,
   "id": "869dcdd0",
   "metadata": {},
   "outputs": [
    {
     "name": "stdout",
     "output_type": "stream",
     "text": [
      "\u001b[0m\u001b[1mTest Summary: | \u001b[22m\u001b[32m\u001b[1mPass  \u001b[22m\u001b[39m\u001b[36m\u001b[1mTotal\u001b[22m\u001b[39m\n",
      "no words      | \u001b[32m   1  \u001b[39m\u001b[36m    1\u001b[39m\n"
     ]
    },
    {
     "data": {
      "text/plain": [
       "Test.DefaultTestSet(\"no words\", Any[], 1, false, false)"
      ]
     },
     "execution_count": 76,
     "metadata": {},
     "output_type": "execute_result"
    }
   ],
   "source": [
    "@testset \"no words\" begin\n",
    "    @test wordcount(\" .\\n,\\t!^&*()~@#\\$%{}[]:;'/<>\") == Dict()\n",
    "end"
   ]
  },
  {
   "cell_type": "code",
   "execution_count": 77,
   "id": "7891fcba",
   "metadata": {},
   "outputs": [
    {
     "name": "stdout",
     "output_type": "stream",
     "text": [
      "\u001b[0m\u001b[1mTest Summary:  | \u001b[22m\u001b[32m\u001b[1mPass  \u001b[22m\u001b[39m\u001b[36m\u001b[1mTotal\u001b[22m\u001b[39m\n",
      "count one word | \u001b[32m   1  \u001b[39m\u001b[36m    1\u001b[39m\n"
     ]
    },
    {
     "data": {
      "text/plain": [
       "Test.DefaultTestSet(\"count one word\", Any[], 1, false, false)"
      ]
     },
     "execution_count": 77,
     "metadata": {},
     "output_type": "execute_result"
    }
   ],
   "source": [
    "@testset \"count one word\" begin\n",
    "    @test wordcount(\"word\") == Dict(\"word\" => 1)\n",
    "end"
   ]
  },
  {
   "cell_type": "code",
   "execution_count": 78,
   "id": "0a4ad959",
   "metadata": {},
   "outputs": [
    {
     "name": "stdout",
     "output_type": "stream",
     "text": [
      "\u001b[0m\u001b[1mTest Summary:          | \u001b[22m\u001b[32m\u001b[1mPass  \u001b[22m\u001b[39m\u001b[36m\u001b[1mTotal\u001b[22m\u001b[39m\n",
      "count one of each word | \u001b[32m   1  \u001b[39m\u001b[36m    1\u001b[39m\n",
      "\u001b[0m\u001b[1mTest Summary:                  | \u001b[22m\u001b[32m\u001b[1mPass  \u001b[22m\u001b[39m\u001b[36m\u001b[1mTotal\u001b[22m\u001b[39m\n",
      "multiple occurrences of a word | \u001b[32m   1  \u001b[39m\u001b[36m    1\u001b[39m\n"
     ]
    },
    {
     "data": {
      "text/plain": [
       "Test.DefaultTestSet(\"multiple occurrences of a word\", Any[], 1, false, false)"
      ]
     },
     "execution_count": 78,
     "metadata": {},
     "output_type": "execute_result"
    }
   ],
   "source": [
    "@testset \"count one of each word\" begin\n",
    "    @test wordcount(\"one of each\") == Dict(\"one\" => 1, \"of\" => 1, \"each\" => 1)\n",
    "end\n",
    "\n",
    "@testset \"multiple occurrences of a word\" begin\n",
    "    @test wordcount(\"one fish two fish red fish blue fish\") == Dict(\"one\" => 1, \"fish\" => 4, \"two\" => 1, \"red\" => 1, \"blue\" => 1)\n",
    "end"
   ]
  },
  {
   "cell_type": "code",
   "execution_count": 79,
   "id": "8b2f476a",
   "metadata": {},
   "outputs": [
    {
     "name": "stdout",
     "output_type": "stream",
     "text": [
      "\u001b[0m\u001b[1mTest Summary:         | \u001b[22m\u001b[32m\u001b[1mPass  \u001b[22m\u001b[39m\u001b[36m\u001b[1mTotal\u001b[22m\u001b[39m\n",
      "handles cramped lists | \u001b[32m   1  \u001b[39m\u001b[36m    1\u001b[39m\n"
     ]
    },
    {
     "data": {
      "text/plain": [
       "Test.DefaultTestSet(\"handles cramped lists\", Any[], 1, false, false)"
      ]
     },
     "execution_count": 79,
     "metadata": {},
     "output_type": "execute_result"
    }
   ],
   "source": [
    "@testset \"handles cramped lists\" begin\n",
    "    @test wordcount(\"one,two,three\") == Dict(\"one\" => 1, \"two\" => 1, \"three\" => 1)\n",
    "end"
   ]
  },
  {
   "cell_type": "code",
   "execution_count": 80,
   "id": "467c194a",
   "metadata": {},
   "outputs": [
    {
     "name": "stdout",
     "output_type": "stream",
     "text": [
      "\u001b[0m\u001b[1mTest Summary:          | \u001b[22m\u001b[32m\u001b[1mPass  \u001b[22m\u001b[39m\u001b[36m\u001b[1mTotal\u001b[22m\u001b[39m\n",
      "handles expanded lists | \u001b[32m   1  \u001b[39m\u001b[36m    1\u001b[39m\n",
      "\u001b[0m\u001b[1mTest Summary:      | \u001b[22m\u001b[32m\u001b[1mPass  \u001b[22m\u001b[39m\u001b[36m\u001b[1mTotal\u001b[22m\u001b[39m\n",
      "ignore punctuation | \u001b[32m   1  \u001b[39m\u001b[36m    1\u001b[39m\n",
      "\u001b[0m\u001b[1mTest Summary:   | \u001b[22m\u001b[32m\u001b[1mPass  \u001b[22m\u001b[39m\u001b[36m\u001b[1mTotal\u001b[22m\u001b[39m\n",
      "include numbers | \u001b[32m   1  \u001b[39m\u001b[36m    1\u001b[39m\n",
      "\u001b[0m\u001b[1mTest Summary:  | \u001b[22m\u001b[32m\u001b[1mPass  \u001b[22m\u001b[39m\u001b[36m\u001b[1mTotal\u001b[22m\u001b[39m\n",
      "normalize case | \u001b[32m   1  \u001b[39m\u001b[36m    1\u001b[39m\n",
      "\u001b[0m\u001b[1mTest Summary:    | \u001b[22m\u001b[32m\u001b[1mPass  \u001b[22m\u001b[39m\u001b[36m\u001b[1mTotal\u001b[22m\u001b[39m\n",
      "with apostrophes | \u001b[32m   2  \u001b[39m\u001b[36m    2\u001b[39m\n"
     ]
    },
    {
     "data": {
      "text/plain": [
       "Test.DefaultTestSet(\"with apostrophes\", Any[], 2, false, false)"
      ]
     },
     "execution_count": 80,
     "metadata": {},
     "output_type": "execute_result"
    }
   ],
   "source": [
    "@testset \"handles expanded lists\" begin\n",
    "    @test wordcount(\"one,\\ntwo,\\nthree\") == Dict(\"one\" => 1, \"two\" => 1, \"three\" => 1)\n",
    "end\n",
    "\n",
    "@testset \"ignore punctuation\" begin\n",
    "    @test wordcount(\"car: carpet as java: javascript!!&@\\$%^&\") == Dict(\"car\" => 1, \"carpet\" => 1, \"as\" => 1, \"java\" => 1, \"javascript\" => 1)\n",
    "end\n",
    "\n",
    "@testset \"include numbers\" begin\n",
    "    @test wordcount(\"testing, 1, 2 testing\") == Dict(\"testing\" => 2, \"1\" => 1, \"2\" => 1)\n",
    "end\n",
    "\n",
    "@testset \"normalize case\" begin\n",
    "    @test wordcount(\"go Go GO Stop stop\") == Dict(\"go\" => 3, \"stop\" => 2)\n",
    "end\n",
    "\n",
    "@testset \"with apostrophes\" begin\n",
    "    @test wordcount(\"First: don't laugh. Then: don't cry.\") == Dict(\"first\" => 1, \"don't\" => 2, \"laugh\" => 1, \"then\" => 1, \"cry\" => 1)\n",
    "    @test wordcount(\"Should've could've would've\") == Dict(\"should've\" => 1, \"could've\" => 1, \"would've\" => 1)\n",
    "end"
   ]
  },
  {
   "cell_type": "code",
   "execution_count": 81,
   "id": "d05d5f22",
   "metadata": {},
   "outputs": [
    {
     "name": "stdout",
     "output_type": "stream",
     "text": [
      "\u001b[0m\u001b[1mTest Summary:   | \u001b[22m\u001b[32m\u001b[1mPass  \u001b[22m\u001b[39m\u001b[36m\u001b[1mTotal\u001b[22m\u001b[39m\n",
      "with quotations | \u001b[32m   1  \u001b[39m\u001b[36m    1\u001b[39m\n",
      "\u001b[0m\u001b[1mTest Summary:                 | \u001b[22m\u001b[32m\u001b[1mPass  \u001b[22m\u001b[39m\u001b[36m\u001b[1mTotal\u001b[22m\u001b[39m\n",
      "substrings from the beginning | \u001b[32m   1  \u001b[39m\u001b[36m    1\u001b[39m\n",
      "\u001b[0m\u001b[1mTest Summary:                          | \u001b[22m\u001b[32m\u001b[1mPass  \u001b[22m\u001b[39m\u001b[36m\u001b[1mTotal\u001b[22m\u001b[39m\n",
      "multiple spaces not detected as a word | \u001b[32m   1  \u001b[39m\u001b[36m    1\u001b[39m\n",
      "\u001b[0m\u001b[1mTest Summary:                                      | \u001b[22m\u001b[32m\u001b[1mPass  \u001b[22m\u001b[39m\u001b[36m\u001b[1mTotal\u001b[22m\u001b[39m\n",
      "alternating word separators not detected as a word | \u001b[32m   1  \u001b[39m\u001b[36m    1\u001b[39m\n"
     ]
    },
    {
     "data": {
      "text/plain": [
       "Test.DefaultTestSet(\"alternating word separators not detected as a word\", Any[], 1, false, false)"
      ]
     },
     "execution_count": 81,
     "metadata": {},
     "output_type": "execute_result"
    }
   ],
   "source": [
    "@testset \"with quotations\" begin\n",
    "    @test wordcount(\"Joe can't tell between 'large' and large.\") == Dict(\"joe\" => 1, \"can't\" => 1, \"tell\" => 1, \"between\" => 1, \"large\" => 2, \"and\" => 1)\n",
    "end\n",
    "\n",
    "@testset \"substrings from the beginning\" begin\n",
    "    @test wordcount(\"Joe can't tell between app, apple and a.\") == Dict(\"joe\" => 1, \"can't\" => 1, \"tell\" => 1, \"between\" => 1, \"app\" => 1, \"apple\" => 1, \"and\" => 1, \"a\" => 1)\n",
    "end\n",
    "\n",
    "@testset \"multiple spaces not detected as a word\" begin\n",
    "    @test wordcount(\" multiple   whitespaces\") == Dict(\"multiple\" => 1, \"whitespaces\" => 1)\n",
    "end\n",
    "\n",
    "@testset \"alternating word separators not detected as a word\" begin\n",
    "    @test wordcount(\",\\n,one,\\n ,two \\n 'three'\") == Dict(\"one\" => 1, \"two\" => 1, \"three\" => 1)\n",
    "end"
   ]
  },
  {
   "cell_type": "code",
   "execution_count": null,
   "id": "b777ad8e",
   "metadata": {},
   "outputs": [],
   "source": []
  },
  {
   "cell_type": "code",
   "execution_count": null,
   "id": "69181273",
   "metadata": {},
   "outputs": [],
   "source": []
  }
 ],
 "metadata": {
  "kernelspec": {
   "display_name": "Julia 1.7.0",
   "language": "julia",
   "name": "julia-1.7"
  },
  "language_info": {
   "file_extension": ".jl",
   "mimetype": "application/julia",
   "name": "julia",
   "version": "1.7.0"
  }
 },
 "nbformat": 4,
 "nbformat_minor": 5
}
