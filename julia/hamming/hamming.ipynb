{
 "cells": [
  {
   "cell_type": "markdown",
   "metadata": {},
   "source": [
    "# Hamming\n",
    "\n",
    "Calculate the Hamming Distance between two DNA strands.\n",
    "\n",
    "Your body is made up of cells that contain DNA. Those cells regularly wear out and need replacing, which they achieve by dividing into daughter cells. In fact, the average human body experiences about 10 quadrillion cell divisions in a lifetime!\n",
    "\n",
    "When cells divide, their DNA replicates too. Sometimes during this process mistakes happen and single pieces of DNA get encoded with the incorrect information. If we compare two strands of DNA and count the differences between them we can see how many mistakes occurred. This is known as the \"Hamming Distance\".\n",
    "\n",
    "We read DNA using the letters C,A,G and T. Two strands might look like this:\n",
    "\n",
    "    GAGCCTACTAACGGGAT\n",
    "    CATCGTAATGACGGCCT\n",
    "    ^ ^ ^  ^ ^    ^^\n",
    "\n",
    "They have 7 differences, and therefore the Hamming Distance is 7.\n",
    "\n",
    "The Hamming Distance is useful for lots of things in science, not just biology, so it's a nice phrase to be familiar with :)\n",
    "\n",
    "# Implementation notes\n",
    "\n",
    "The Hamming distance is only defined for sequences of equal length, so\n",
    "an attempt to calculate it between sequences of different lengths should\n",
    "not work. The general handling of this situation (e.g., raising an\n",
    "exception vs returning a special value) may differ between languages.\n",
    "\n",
    "## Source\n",
    "\n",
    "The Calculating Point Mutations problem at Rosalind [http://rosalind.info/problems/hamm/](http://rosalind.info/problems/hamm/)\n",
    "\n",
    "## Version compatibility\n",
    "This exercise has been tested on Julia versions >=1.0.\n",
    "\n",
    "## Submitting Incomplete Solutions\n",
    "It's possible to submit an incomplete solution so you can see how others have completed the exercise."
   ]
  },
  {
   "cell_type": "markdown",
   "metadata": {},
   "source": [
    "## Your solution"
   ]
  },
  {
   "cell_type": "code",
   "execution_count": 27,
   "metadata": {},
   "outputs": [
    {
     "data": {
      "text/plain": [
       "distance"
      ]
     },
     "execution_count": 27,
     "metadata": {},
     "output_type": "execute_result"
    }
   ],
   "source": [
    "# submit\n",
    "\"Your optional docstring here\"\n",
    "function distance(a, b)\n",
    "    if length(a) != length(b)\n",
    "        throw(ArgumentError(\"Sequences must be the same length\"))\n",
    "    end\n",
    "    \n",
    "    dist = 0\n",
    "    for i in 1:length(a)\n",
    "         if a[i] != b[i]\n",
    "            dist += 1\n",
    "        end\n",
    "    end\n",
    "    dist\n",
    "end"
   ]
  },
  {
   "cell_type": "code",
   "execution_count": 28,
   "metadata": {},
   "outputs": [
    {
     "ename": "LoadError",
     "evalue": "ArgumentError: Sequences must be the same length",
     "output_type": "error",
     "traceback": [
      "ArgumentError: Sequences must be the same length",
      "",
      "Stacktrace:",
      " [1] distance(a::String, b::String)",
      "   @ Main .\\In[27]:5",
      " [2] top-level scope",
      "   @ In[28]:1",
      " [3] eval",
      "   @ .\\boot.jl:360 [inlined]",
      " [4] include_string(mapexpr::typeof(REPL.softscope), mod::Module, code::String, filename::String)",
      "   @ Base .\\loading.jl:1094"
     ]
    }
   ],
   "source": [
    "distance(\"abd\", \"ab\")"
   ]
  },
  {
   "cell_type": "code",
   "execution_count": 24,
   "metadata": {},
   "outputs": [
    {
     "name": "stdout",
     "output_type": "stream",
     "text": [
      "search: \u001b[0m\u001b[1mA\u001b[22m\u001b[0m\u001b[1mr\u001b[22m\u001b[0m\u001b[1mg\u001b[22m\u001b[0m\u001b[1mu\u001b[22m\u001b[0m\u001b[1mm\u001b[22m\u001b[0m\u001b[1me\u001b[22m\u001b[0m\u001b[1mn\u001b[22m\u001b[0m\u001b[1mt\u001b[22m\u001b[0m\u001b[1mE\u001b[22m\u001b[0m\u001b[1mr\u001b[22m\u001b[0m\u001b[1mr\u001b[22m\u001b[0m\u001b[1mo\u001b[22m\u001b[0m\u001b[1mr\u001b[22m\n",
      "\n"
     ]
    },
    {
     "data": {
      "text/latex": [
       "\\begin{verbatim}\n",
       "ArgumentError(msg)\n",
       "\\end{verbatim}\n",
       "The parameters to a function call do not match a valid signature. Argument \\texttt{msg} is a descriptive error string.\n",
       "\n"
      ],
      "text/markdown": [
       "```\n",
       "ArgumentError(msg)\n",
       "```\n",
       "\n",
       "The parameters to a function call do not match a valid signature. Argument `msg` is a descriptive error string.\n"
      ],
      "text/plain": [
       "\u001b[36m  ArgumentError(msg)\u001b[39m\n",
       "\n",
       "  The parameters to a function call do not match a valid signature. Argument\n",
       "  \u001b[36mmsg\u001b[39m is a descriptive error string."
      ]
     },
     "execution_count": 24,
     "metadata": {},
     "output_type": "execute_result"
    }
   ],
   "source": [
    "?ArgumentError"
   ]
  },
  {
   "cell_type": "markdown",
   "metadata": {},
   "source": [
    "## Test suite"
   ]
  },
  {
   "cell_type": "code",
   "execution_count": 30,
   "metadata": {},
   "outputs": [
    {
     "name": "stdout",
     "output_type": "stream",
     "text": [
      "\u001b[37m\u001b[1mTest Summary:     | \u001b[22m\u001b[39m\u001b[32m\u001b[1mPass  \u001b[22m\u001b[39m\u001b[36m\u001b[1mTotal\u001b[22m\u001b[39m\n",
      "identical strands | \u001b[32m   2  \u001b[39m\u001b[36m    2\u001b[39m\n",
      "\u001b[37m\u001b[1mTest Summary:     | \u001b[22m\u001b[39m\u001b[32m\u001b[1mPass  \u001b[22m\u001b[39m\u001b[36m\u001b[1mTotal\u001b[22m\u001b[39m\n",
      "complete distance | \u001b[32m   2  \u001b[39m\u001b[36m    2\u001b[39m\n",
      "\u001b[37m\u001b[1mTest Summary:  | \u001b[22m\u001b[39m\u001b[32m\u001b[1mPass  \u001b[22m\u001b[39m\u001b[36m\u001b[1mTotal\u001b[22m\u001b[39m\n",
      "small distance | \u001b[32m   3  \u001b[39m\u001b[36m    3\u001b[39m\n",
      "\u001b[37m\u001b[1mTest Summary:         | \u001b[22m\u001b[39m\u001b[32m\u001b[1mPass  \u001b[22m\u001b[39m\u001b[36m\u001b[1mTotal\u001b[22m\u001b[39m\n",
      "non-unique characters | \u001b[32m   2  \u001b[39m\u001b[36m    2\u001b[39m\n",
      "\u001b[37m\u001b[1mTest Summary:                           | \u001b[22m\u001b[39m\u001b[32m\u001b[1mPass  \u001b[22m\u001b[39m\u001b[36m\u001b[1mTotal\u001b[22m\u001b[39m\n",
      "same nucleotides in different positions | \u001b[32m   1  \u001b[39m\u001b[36m    1\u001b[39m\n",
      "\u001b[37m\u001b[1mTest Summary:  | \u001b[22m\u001b[39m\u001b[32m\u001b[1mPass  \u001b[22m\u001b[39m\u001b[36m\u001b[1mTotal\u001b[22m\u001b[39m\n",
      "large distance | \u001b[32m   2  \u001b[39m\u001b[36m    2\u001b[39m\n",
      "\u001b[37m\u001b[1mTest Summary: | \u001b[22m\u001b[39m\u001b[32m\u001b[1mPass  \u001b[22m\u001b[39m\u001b[36m\u001b[1mTotal\u001b[22m\u001b[39m\n",
      "empty strands | \u001b[32m   1  \u001b[39m\u001b[36m    1\u001b[39m\n",
      "\u001b[37m\u001b[1mTest Summary:            | \u001b[22m\u001b[39m\u001b[32m\u001b[1mPass  \u001b[22m\u001b[39m\u001b[36m\u001b[1mTotal\u001b[22m\u001b[39m\n",
      "different strand lengths | \u001b[32m   4  \u001b[39m"
     ]
    },
    {
     "data": {
      "text/plain": [
       "Test.DefaultTestSet(\"different strand lengths\", Any[], 4, false, false)"
      ]
     },
     "execution_count": 30,
     "metadata": {},
     "output_type": "execute_result"
    },
    {
     "name": "stdout",
     "output_type": "stream",
     "text": [
      "\u001b[36m    4\u001b[39m\n"
     ]
    }
   ],
   "source": [
    "using Test\n",
    "\n",
    "# include(\"hamming.jl\")\n",
    "\n",
    "@testset \"identical strands\" begin\n",
    "    @test distance(\"A\", \"A\") == 0\n",
    "    @test distance(\"GGACTGA\", \"GGACTGA\") == 0\n",
    "end\n",
    "\n",
    "@testset \"complete distance\" begin\n",
    "    @test distance(\"A\", \"G\") == 1\n",
    "    @test distance(\"AG\", \"CT\") == 2\n",
    "end\n",
    "\n",
    "@testset \"small distance\" begin\n",
    "    @test distance(\"AT\", \"CT\") == 1\n",
    "    @test distance(\"GGACG\", \"GGTCG\") == 1\n",
    "    @test distance(\"ACCAGGG\", \"ACTATGG\") == 2\n",
    "end\n",
    "\n",
    "@testset \"non-unique characters\" begin\n",
    "    @test distance(\"AGA\", \"AGG\") == 1\n",
    "    @test distance(\"AGG\", \"AGA\") == 1\n",
    "end\n",
    "\n",
    "@testset \"same nucleotides in different positions\" begin\n",
    "    @test distance(\"TAG\", \"GAT\") == 2\n",
    "end\n",
    "\n",
    "@testset \"large distance\" begin\n",
    "    @test distance(\"GATACA\", \"GCATAA\") == 4\n",
    "    @test distance(\"GGACGGATTCTG\", \"AGGACGGATTCT\") == 9\n",
    "end\n",
    "\n",
    "@testset \"empty strands\" begin\n",
    "    @test distance(\"\", \"\") == 0\n",
    "end\n",
    "\n",
    "@testset \"different strand lengths\" begin\n",
    "    @test_throws ArgumentError distance(\"AATG\", \"AAA\")\n",
    "    @test_throws ArgumentError distance(\"ATA\", \"AGTG\")\n",
    "    @test_throws ArgumentError distance(\"\", \"G\")\n",
    "    @test_throws ArgumentError distance(\"G\", \"\")\n",
    "end"
   ]
  },
  {
   "cell_type": "markdown",
   "metadata": {},
   "source": [
    "## Prepare submission\n",
    "To submit your exercise, you need to save your solution in a file called `hamming.jl` before using the CLI.\n",
    "You can either create it manually or use the following functions, which will automatically write every notebook cell that starts with `# submit` to the file `hamming.jl`.\n"
   ]
  },
  {
   "cell_type": "code",
   "execution_count": 32,
   "metadata": {},
   "outputs": [
    {
     "data": {
      "text/plain": [
       "281"
      ]
     },
     "execution_count": 32,
     "metadata": {},
     "output_type": "execute_result"
    }
   ],
   "source": [
    "# using Pkg; Pkg.add(\"Exercism\")\n",
    "using Exercism\n",
    "Exercism.create_submission(\"hamming\")"
   ]
  },
  {
   "cell_type": "code",
   "execution_count": null,
   "metadata": {},
   "outputs": [],
   "source": []
  }
 ],
 "metadata": {
  "kernelspec": {
   "display_name": "Julia 1.6.1",
   "language": "julia",
   "name": "julia-1.6"
  },
  "language_info": {
   "file_extension": ".jl",
   "mimetype": "application/julia",
   "name": "julia",
   "version": "1.6.1"
  }
 },
 "nbformat": 4,
 "nbformat_minor": 2
}
