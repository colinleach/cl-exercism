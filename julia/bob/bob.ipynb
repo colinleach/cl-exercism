{
 "cells": [
  {
   "cell_type": "markdown",
   "metadata": {},
   "source": [
    "# Bob\n",
    "\n",
    "Bob is a lackadaisical teenager. In conversation, his responses are very limited.\n",
    "\n",
    "Bob answers 'Sure.' if you ask him a question, such as \"How are you?\".\n",
    "\n",
    "He answers 'Whoa, chill out!' if you YELL AT HIM (in all capitals).\n",
    "\n",
    "He answers 'Calm down, I know what I'm doing!' if you yell a question at him.\n",
    "\n",
    "He says 'Fine. Be that way!' if you address him without actually saying\n",
    "anything.\n",
    "\n",
    "He answers 'Whatever.' to anything else.\n",
    "\n",
    "Bob's conversational partner is a purist when it comes to written communication and always follows normal rules regarding sentence punctuation in English.\n",
    "\n",
    "## Source\n",
    "\n",
    "Inspired by the 'Deaf Grandma' exercise in Chris Pine's Learn to Program tutorial. [http://pine.fm/LearnToProgram/?Chapter=06](http://pine.fm/LearnToProgram/?Chapter=06)\n",
    "\n",
    "## Version compatibility\n",
    "This exercise has been tested on Julia versions >=1.0.\n",
    "\n",
    "## Submitting Incomplete Solutions\n",
    "It's possible to submit an incomplete solution so you can see how others have completed the exercise."
   ]
  },
  {
   "cell_type": "markdown",
   "metadata": {},
   "source": [
    "## Your solution"
   ]
  },
  {
   "cell_type": "code",
   "execution_count": 12,
   "metadata": {},
   "outputs": [
    {
     "data": {
      "text/plain": [
       "bob (generic function with 1 method)"
      ]
     },
     "execution_count": 12,
     "metadata": {},
     "output_type": "execute_result"
    }
   ],
   "source": [
    "# submit\n",
    "isEmpty(input) = isempty(input) || !occursin(r\"\\S\", input)\n",
    "isUpper(input) = occursin(r\"[A-Z]\", input) && input == uppercase(input)\n",
    "isQuestion(input) = occursin(r\"\\?\\s*$\", input)\n",
    "\n",
    "function bob(stimulus)\n",
    "    if isEmpty(stimulus)\n",
    "        return \"Fine. Be that way!\"\n",
    "    end\n",
    "    if isUpper(stimulus)\n",
    "        if isQuestion(stimulus)\n",
    "            resp = \"Calm down, I know what I'm doing!\"\n",
    "        else\n",
    "            resp = \"Whoa, chill out!\"\n",
    "        end\n",
    "    else\n",
    "        if isQuestion(stimulus)\n",
    "            resp = \"Sure.\"\n",
    "        else\n",
    "            resp = \"Whatever.\"\n",
    "        end\n",
    "    end\n",
    "    resp\n",
    "end"
   ]
  },
  {
   "cell_type": "code",
   "execution_count": 13,
   "metadata": {},
   "outputs": [
    {
     "data": {
      "text/plain": [
       "\"Sure.\""
      ]
     },
     "execution_count": 13,
     "metadata": {},
     "output_type": "execute_result"
    }
   ],
   "source": [
    "input = \"4?\"\n",
    "bob(input)"
   ]
  },
  {
   "cell_type": "markdown",
   "metadata": {},
   "source": [
    "## Test suite"
   ]
  },
  {
   "cell_type": "code",
   "execution_count": 14,
   "metadata": {},
   "outputs": [
    {
     "name": "stdout",
     "output_type": "stream",
     "text": [
      "\u001b[37m\u001b[1mTest Summary: | \u001b[22m\u001b[39m\u001b[32m\u001b[1mPass  \u001b[22m\u001b[39m\u001b[36m\u001b[1mTotal\u001b[22m\u001b[39m\n",
      "questions     | \u001b[32m   9  \u001b[39m\u001b[36m    9\u001b[39m\n",
      "\u001b[37m\u001b[1mTest Summary: | \u001b[22m\u001b[39m\u001b[32m\u001b[1mPass  \u001b[22m\u001b[39m\u001b[36m\u001b[1mTotal\u001b[22m\u001b[39m\n",
      "yelling       | \u001b[32m   8  \u001b[39m\u001b[36m    8\u001b[39m\n",
      "\u001b[37m\u001b[1mTest Summary: | \u001b[22m\u001b[39m\u001b[32m\u001b[1mPass  \u001b[22m\u001b[39m\u001b[36m\u001b[1mTotal\u001b[22m\u001b[39m\n",
      "silence       | \u001b[32m   4  \u001b[39m\u001b[36m    4\u001b[39m\n",
      "\u001b[37m\u001b[1mTest Summary: | \u001b[22m\u001b[39m\u001b[32m\u001b[1mPass  \u001b[22m\u001b[39m\u001b[36m\u001b[1mTotal\u001b[22m\u001b[39m\n",
      "misc          | \u001b[32m  10  \u001b[39m\u001b[36m   10\u001b[39m\n",
      "\u001b[37m\u001b[1mTest Summary:      | \u001b[22m\u001b[39m\u001b[32m\u001b[1mPass  \u001b[22m\u001b[39m\u001b[36m\u001b[1mTotal\u001b[22m\u001b[39m\n",
      "forceful questions | \u001b[32m   3  \u001b[39m\u001b[36m    3\u001b[39m\n"
     ]
    },
    {
     "data": {
      "text/plain": [
       "Test.DefaultTestSet(\"forceful questions\", Any[Test.DefaultTestSet(\"WHAT THE HELL WERE YOU THINKING?\", Any[], 1, false, false), Test.DefaultTestSet(\"WAS ZUR HÖLLE GEHT HIER VOR?\", Any[], 1, false, false), Test.DefaultTestSet(\"OIDA?\", Any[], 1, false, false)], 0, false, false)"
      ]
     },
     "execution_count": 14,
     "metadata": {},
     "output_type": "execute_result"
    }
   ],
   "source": [
    "using Test\n",
    "\n",
    "# include(\"bob.jl\")\n",
    "\n",
    "questions = (\n",
    "        \"Does this cryogenic chamber make me look fat?\",\n",
    "        \"Hä?\",\n",
    "        \"You are, what, like 15?\",\n",
    "        \"fffbbcbeab?\",\n",
    "        \"4?\", \":) ?\",\n",
    "        \"Wait! Hang on. Are you going to be OK?\",\n",
    "        \"Okay if like my  spacebar  quite a bit?   \",\n",
    "        \"Oida?\",\n",
    ")\n",
    "\n",
    "yells = (\n",
    "        \"WATCH OUT!\",\n",
    "        \"FCECDFCAAB\",\n",
    "        \"FCÄEÜCÖDFCẞAB\",\n",
    "        \"1, 2, 3 GO!\",\n",
    "        \"ZOMG THE %^*@#\\$(*^ ZOMBIES ARE COMING!!11!!1!\",\n",
    "        \"I HATE YOU\",\n",
    "        \"I HATE THE DENTIST\",\n",
    "        \"OIDA!\",\n",
    ")\n",
    "\n",
    "silences = (\n",
    "        \"\",\n",
    "        \"          \",\n",
    "        \"\\t\\t\\t\\t\\t\\t\\t\\t\\t\\t\",\n",
    "        \"\\n\\r \\t\",\n",
    ")\n",
    "\n",
    "miscs = (\n",
    "        \"Tom-ay-to, tom-aaaah-to.\",\n",
    "        \"Let's go make out behind the gym!\",\n",
    "        \"It's OK if you don't want to work for the NSA.\",\n",
    "        \"Es ist okay, wenn du nicht für den BND arbeiten möchtest.\",\n",
    "        \"1, 2, 3\",\n",
    "        \"Ending with ? means a question.\",\n",
    "        \"\\nDoes this cryogenic chamber make me look fat?\\nno\",\n",
    "        \"         hmmmmmmm...\",\n",
    "        \"This is a statement ending with whitespace      \",\n",
    "        \"Oida.\",\n",
    ")\n",
    "\n",
    "forceful_questions = (\n",
    "        \"WHAT THE HELL WERE YOU THINKING?\",\n",
    "        \"WAS ZUR HÖLLE GEHT HIER VOR?\",\n",
    "        \"OIDA?\",\n",
    ")\n",
    "\n",
    "response = Dict(\n",
    "        :question => \"Sure.\",\n",
    "        :yelling => \"Whoa, chill out!\",\n",
    "        :silence => \"Fine. Be that way!\",\n",
    "        :misc => \"Whatever.\",\n",
    "        :forceful_question => \"Calm down, I know what I'm doing!\",\n",
    ")\n",
    "\n",
    "@testset \"questions\" begin\n",
    "    @testset \"$question\" for question in questions\n",
    "        @test bob(question) == response[:question]\n",
    "    end\n",
    "end\n",
    "\n",
    "@testset \"yelling\" begin\n",
    "    @testset \"$yell\" for yell in yells\n",
    "        @test bob(yell) == response[:yelling]\n",
    "    end\n",
    "end\n",
    "\n",
    "@testset \"silence\" begin\n",
    "    @testset \"$silence\" for silence in silences\n",
    "        @test bob(silence) == response[:silence]\n",
    "    end\n",
    "end\n",
    "\n",
    "@testset \"misc\" begin\n",
    "    @testset \"$misc\" for misc in miscs\n",
    "        @test bob(misc) == response[:misc]\n",
    "    end\n",
    "end\n",
    "\n",
    "@testset \"forceful questions\" begin\n",
    "    @testset \"$question\" for question in forceful_questions\n",
    "        @test bob(question) == response[:forceful_question]\n",
    "    end \n",
    "end"
   ]
  },
  {
   "cell_type": "markdown",
   "metadata": {},
   "source": [
    "## Prepare submission\n",
    "To submit your exercise, you need to save your solution in a file called `bob.jl` before using the CLI.\n",
    "You can either create it manually or use the following functions, which will automatically write every notebook cell that starts with `# submit` to the file `bob.jl`.\n"
   ]
  },
  {
   "cell_type": "code",
   "execution_count": 15,
   "metadata": {},
   "outputs": [
    {
     "name": "stdout",
     "output_type": "stream",
     "text": [
      "    \u001b[36m\u001b[1mFetching:\u001b[22m\u001b[39m [========================================>]  100.0 %36m\u001b[1mFetching:\u001b[22m\u001b[39m [=>                                       ]  1.5 %>                                    ]  8.8 %\u001b[36m\u001b[1mFetching:\u001b[22m\u001b[39m [====>                                    ]  9.5 %\u001b[36m\u001b[1mFetching:\u001b[22m\u001b[39m [=====>                                   ]  11.3 %\u001b[36m\u001b[1mFetching:\u001b[22m\u001b[39m [======>                                  ]  12.7 %\u001b[36m\u001b[1mFetching:\u001b[22m\u001b[39m [======>                                  ]  14.1 %\u001b[36m\u001b[1mFetching:\u001b[22m\u001b[39m [============>                            ]  29.9 %\u001b[36m\u001b[1mFetching:\u001b[22m\u001b[39m [=============>                           ]  30.9 %\u001b[36m\u001b[1mFetching:\u001b[22m\u001b[39m [=============>                           ]  32.1 %\u001b[36m\u001b[1mFetching:\u001b[22m\u001b[39m [==============>                          ]  34.7 %\u001b[36m\u001b[1mFetching:\u001b[22m\u001b[39m [================>                        ]  37.5 %\u001b[36m\u001b[1mFetching:\u001b[22m\u001b[39m [=================>                       ]  40.5 %\u001b[36m\u001b[1mFetching:\u001b[22m\u001b[39m [==================>                      ]  44.5 %\u001b[36m\u001b[1mFetching:\u001b[22m\u001b[39m [===================>                     ]  46.5 %\u001b[36m\u001b[1mFetching:\u001b[22m\u001b[39m [=====================>                   ]  50.9 %\u001b[36m\u001b[1mFetching:\u001b[22m\u001b[39m [======================>                  ]  52.5 %\u001b[36m\u001b[1mFetching:\u001b[22m\u001b[39m [======================>                  ]  53.3 %\u001b[36m\u001b[1mFetching:\u001b[22m\u001b[39m [======================>                  ]  54.1 %\u001b[36m\u001b[1mFetching:\u001b[22m\u001b[39m [======================>                  ]  54.9 %\u001b[36m\u001b[1mFetching:\u001b[22m\u001b[39m [=========================>               ]  60.1 %\u001b[36m\u001b[1mFetching:\u001b[22m\u001b[39m [=========================>               ]  61.1 %\u001b[36m\u001b[1mFetching:\u001b[22m\u001b[39m [=========================>               ]  62.3 %\u001b[36m\u001b[1mFetching:\u001b[22m\u001b[39m [==========================>              ]  63.5 %\u001b[36m\u001b[1mFetching:\u001b[22m\u001b[39m [=============================>           ]  70.7 %\u001b[36m\u001b[1mFetching:\u001b[22m\u001b[39m [==============================>          ]  72.5 %\u001b[36m\u001b[1mFetching:\u001b[22m\u001b[39m [================================>        ]  79.1 %\u001b[36m\u001b[1mFetching:\u001b[22m\u001b[39m [=================================>       ]  80.9 %\u001b[36m\u001b[1mFetching:\u001b[22m\u001b[39m [=================================>       ]  82.1 %\u001b[36m\u001b[1mFetching:\u001b[22m\u001b[39m [====================================>    ]  88.3 %\u001b[36m\u001b[1mFetching:\u001b[22m\u001b[39m [=====================================>   ]  90.7 %\u001b[36m\u001b[1mFetching:\u001b[22m\u001b[39m [=======================================> ]  95.8 %\u001b[36m\u001b[1mFetching:\u001b[22m\u001b[39m [========================================>]  98.2 %\u001b[36m\u001b[1mFetching:\u001b[22m\u001b[39m [========================================>]  98.3 %\u001b[36m\u001b[1mFetching:\u001b[22m\u001b[39m [========================================>]  98.4 %\u001b[36m\u001b[1mFetching:\u001b[22m\u001b[39m [========================================>]  98.5 %\u001b[36m\u001b[1mFetching:\u001b[22m\u001b[39m [========================================>]  98.7 %\u001b[36m\u001b[1mFetching:\u001b[22m\u001b[39m [========================================>]  98.8 %\u001b[36m\u001b[1mFetching:\u001b[22m\u001b[39m [========================================>]  98.9 %\u001b[36m\u001b[1mFetching:\u001b[22m\u001b[39m [========================================>]  99.0 %\u001b[36m\u001b[1mFetching:\u001b[22m\u001b[39m [========================================>]  99.1 %\u001b[36m\u001b[1mFetching:\u001b[22m\u001b[39m [========================================>]  99.2 %\u001b[36m\u001b[1mFetching:\u001b[22m\u001b[39m [========================================>]  99.3 %\u001b[36m\u001b[1mFetching:\u001b[22m\u001b[39m [========================================>]  99.4 %\u001b[36m\u001b[1mFetching:\u001b[22m\u001b[39m [========================================>]  99.5 %\u001b[36m\u001b[1mFetching:\u001b[22m\u001b[39m [========================================>]  99.7 %\u001b[36m\u001b[1mFetching:\u001b[22m\u001b[39m [========================================>]  99.9 %\r"
     ]
    },
    {
     "data": {
      "text/plain": [
       "590"
      ]
     },
     "execution_count": 15,
     "metadata": {},
     "output_type": "execute_result"
    }
   ],
   "source": [
    "using Pkg; Pkg.add(\"Exercism\")\n",
    "using Exercism\n",
    "Exercism.create_submission(\"bob\")"
   ]
  },
  {
   "cell_type": "code",
   "execution_count": null,
   "metadata": {},
   "outputs": [],
   "source": []
  }
 ],
 "metadata": {
  "kernelspec": {
   "display_name": "Julia 1.6.1",
   "language": "julia",
   "name": "julia-1.6"
  },
  "language_info": {
   "file_extension": ".jl",
   "mimetype": "application/julia",
   "name": "julia",
   "version": "1.6.1"
  },
  "toc": {
   "base_numbering": 1,
   "nav_menu": {},
   "number_sections": true,
   "sideBar": true,
   "skip_h1_title": false,
   "title_cell": "Table of Contents",
   "title_sidebar": "Contents",
   "toc_cell": false,
   "toc_position": {},
   "toc_section_display": true,
   "toc_window_display": false
  }
 },
 "nbformat": 4,
 "nbformat_minor": 2
}
