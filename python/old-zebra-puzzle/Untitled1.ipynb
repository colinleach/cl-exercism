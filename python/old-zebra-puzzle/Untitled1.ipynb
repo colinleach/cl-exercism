{
 "cells": [
  {
   "cell_type": "code",
   "execution_count": 19,
   "id": "b4f4f4f1-08b4-49ed-bbeb-76155cc889c2",
   "metadata": {},
   "outputs": [],
   "source": [
    "from calendar import Calendar\n",
    "from datetime import date"
   ]
  },
  {
   "cell_type": "code",
   "execution_count": 20,
   "id": "05f6993e-9b80-40db-9d13-f29a6f42ffcd",
   "metadata": {},
   "outputs": [],
   "source": [
    "cal = Calendar()"
   ]
  },
  {
   "cell_type": "code",
   "execution_count": 25,
   "id": "4a654b29-110f-482c-aded-024d146e3efe",
   "metadata": {},
   "outputs": [],
   "source": [
    "weekdays = {\"Monday\": 0, \"Tuesday\": 1, \"Wednesday\": 2, \"Thursday\": 3, \"Friday\": 4, \"Saturday\": 5, \"Sunday\": 6, }"
   ]
  },
  {
   "cell_type": "code",
   "execution_count": 26,
   "id": "f89748d4-99c9-43ee-bacb-d271982ea297",
   "metadata": {},
   "outputs": [
    {
     "data": {
      "text/plain": [
       "[datetime.date(2024, 8, 6),\n",
       " datetime.date(2024, 8, 13),\n",
       " datetime.date(2024, 8, 20),\n",
       " datetime.date(2024, 8, 27)]"
      ]
     },
     "execution_count": 26,
     "metadata": {},
     "output_type": "execute_result"
    }
   ],
   "source": [
    "[d for d in cal.itermonthdates(2024, 8) if d.month == 8 and d.weekday() == weekdays[\"Tuesday\"]]"
   ]
  },
  {
   "cell_type": "code",
   "execution_count": 11,
   "id": "4fd6a520-0efa-4973-bcfb-2120b9507b81",
   "metadata": {},
   "outputs": [
    {
     "data": {
      "text/plain": [
       "[[datetime.date(2024, 7, 29),\n",
       "  datetime.date(2024, 7, 30),\n",
       "  datetime.date(2024, 7, 31),\n",
       "  datetime.date(2024, 8, 1),\n",
       "  datetime.date(2024, 8, 2),\n",
       "  datetime.date(2024, 8, 3),\n",
       "  datetime.date(2024, 8, 4)],\n",
       " [datetime.date(2024, 8, 5),\n",
       "  datetime.date(2024, 8, 6),\n",
       "  datetime.date(2024, 8, 7),\n",
       "  datetime.date(2024, 8, 8),\n",
       "  datetime.date(2024, 8, 9),\n",
       "  datetime.date(2024, 8, 10),\n",
       "  datetime.date(2024, 8, 11)],\n",
       " [datetime.date(2024, 8, 12),\n",
       "  datetime.date(2024, 8, 13),\n",
       "  datetime.date(2024, 8, 14),\n",
       "  datetime.date(2024, 8, 15),\n",
       "  datetime.date(2024, 8, 16),\n",
       "  datetime.date(2024, 8, 17),\n",
       "  datetime.date(2024, 8, 18)],\n",
       " [datetime.date(2024, 8, 19),\n",
       "  datetime.date(2024, 8, 20),\n",
       "  datetime.date(2024, 8, 21),\n",
       "  datetime.date(2024, 8, 22),\n",
       "  datetime.date(2024, 8, 23),\n",
       "  datetime.date(2024, 8, 24),\n",
       "  datetime.date(2024, 8, 25)],\n",
       " [datetime.date(2024, 8, 26),\n",
       "  datetime.date(2024, 8, 27),\n",
       "  datetime.date(2024, 8, 28),\n",
       "  datetime.date(2024, 8, 29),\n",
       "  datetime.date(2024, 8, 30),\n",
       "  datetime.date(2024, 8, 31),\n",
       "  datetime.date(2024, 9, 1)]]"
      ]
     },
     "execution_count": 11,
     "metadata": {},
     "output_type": "execute_result"
    }
   ],
   "source": [
    "list(cal.monthdatescalendar(2024, 8))"
   ]
  },
  {
   "cell_type": "code",
   "execution_count": null,
   "id": "0c1cd45d-81ea-4f7b-996a-5fd01018c660",
   "metadata": {},
   "outputs": [],
   "source": []
  }
 ],
 "metadata": {
  "kernelspec": {
   "display_name": "Python 3 (ipykernel)",
   "language": "python",
   "name": "python3"
  },
  "language_info": {
   "codemirror_mode": {
    "name": "ipython",
    "version": 3
   },
   "file_extension": ".py",
   "mimetype": "text/x-python",
   "name": "python",
   "nbconvert_exporter": "python",
   "pygments_lexer": "ipython3",
   "version": "3.12.4"
  }
 },
 "nbformat": 4,
 "nbformat_minor": 5
}
