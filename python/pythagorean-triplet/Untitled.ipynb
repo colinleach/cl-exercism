{
 "cells": [
  {
   "cell_type": "code",
   "execution_count": null,
   "id": "b9d56ebe",
   "metadata": {},
   "outputs": [],
   "source": [
    "def triplets_with_sum(number):\n",
    "    pass\n"
   ]
  },
  {
   "cell_type": "code",
   "execution_count": null,
   "id": "c4ff63d6",
   "metadata": {},
   "outputs": [],
   "source": []
  },
  {
   "cell_type": "code",
   "execution_count": null,
   "id": "930aa5c6",
   "metadata": {},
   "outputs": [],
   "source": []
  },
  {
   "cell_type": "code",
   "execution_count": null,
   "id": "84a3e221",
   "metadata": {},
   "outputs": [],
   "source": []
  },
  {
   "cell_type": "code",
   "execution_count": null,
   "id": "1e3e3e6e",
   "metadata": {},
   "outputs": [],
   "source": []
  },
  {
   "cell_type": "code",
   "execution_count": 2,
   "id": "b1d732b4",
   "metadata": {},
   "outputs": [],
   "source": [
    "import unittest\n",
    "\n",
    "\n",
    "# Tests adapted from `problem-specifications//canonical-data.json`\n",
    "\n",
    "# Python 2/3 compatibility\n",
    "if not hasattr(unittest.TestCase, \"assertCountEqual\"):\n",
    "    unittest.TestCase.assertCountEqual = unittest.TestCase.assertItemsEqual\n",
    "\n",
    "\n",
    "class PythagoreanTripletTest(unittest.TestCase):\n",
    "    def test_triplets_whose_sum_is_12(self):\n",
    "        self.assertCountEqual(triplets_with_sum(12), [[3, 4, 5]])\n",
    "\n",
    "    def test_triplets_whose_sum_is_108(self):\n",
    "        self.assertCountEqual(triplets_with_sum(108), [[27, 36, 45]])\n",
    "\n",
    "    def test_triplets_whose_sum_is_1000(self):\n",
    "        self.assertCountEqual(triplets_with_sum(1000), [[200, 375, 425]])\n",
    "\n",
    "    def test_no_matching_triplets_for_1001(self):\n",
    "        self.assertCountEqual(triplets_with_sum(1001), [])\n",
    "\n",
    "    def test_returns_all_matching_triplets(self):\n",
    "        self.assertCountEqual(triplets_with_sum(90), [[9, 40, 41], [15, 36, 39]])\n",
    "\n",
    "    def test_several_matching_triplets(self):\n",
    "        self.assertCountEqual(\n",
    "            triplets_with_sum(840),\n",
    "            [\n",
    "                [40, 399, 401],\n",
    "                [56, 390, 394],\n",
    "                [105, 360, 375],\n",
    "                [120, 350, 370],\n",
    "                [140, 336, 364],\n",
    "                [168, 315, 357],\n",
    "                [210, 280, 350],\n",
    "                [240, 252, 348],\n",
    "            ],\n",
    "        )\n",
    "\n",
    "    def test_triplets_for_large_number(self):\n",
    "        self.assertCountEqual(\n",
    "            triplets_with_sum(30000),\n",
    "            [\n",
    "                [1200, 14375, 14425],\n",
    "                [1875, 14000, 14125],\n",
    "                [5000, 12000, 13000],\n",
    "                [6000, 11250, 12750],\n",
    "                [7500, 10000, 12500],\n",
    "            ],\n",
    "        )\n",
    "\n"
   ]
  },
  {
   "cell_type": "code",
   "execution_count": null,
   "id": "4dce7ad5",
   "metadata": {},
   "outputs": [],
   "source": []
  }
 ],
 "metadata": {
  "kernelspec": {
   "display_name": "Python 3 (ipykernel)",
   "language": "python",
   "name": "python3"
  },
  "language_info": {
   "codemirror_mode": {
    "name": "ipython",
    "version": 3
   },
   "file_extension": ".py",
   "mimetype": "text/x-python",
   "name": "python",
   "nbconvert_exporter": "python",
   "pygments_lexer": "ipython3",
   "version": "3.10.9"
  },
  "toc": {
   "base_numbering": 1,
   "nav_menu": {},
   "number_sections": true,
   "sideBar": true,
   "skip_h1_title": true,
   "title_cell": "Table of Contents",
   "title_sidebar": "Contents",
   "toc_cell": false,
   "toc_position": {},
   "toc_section_display": true,
   "toc_window_display": false
  }
 },
 "nbformat": 4,
 "nbformat_minor": 5
}
